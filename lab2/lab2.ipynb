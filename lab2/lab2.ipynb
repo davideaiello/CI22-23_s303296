{
 "cells": [
  {
   "cell_type": "code",
   "execution_count": 81,
   "metadata": {},
   "outputs": [],
   "source": [
    "import logging\n",
    "from collections import namedtuple\n",
    "import random\n",
    "import sys\n",
    "import numpy"
   ]
  },
  {
   "cell_type": "code",
   "execution_count": 82,
   "metadata": {},
   "outputs": [],
   "source": [
    "N = 100\n",
    "PROBLEM_SIZE = N**2             \n",
    "POPULATION_SIZE = N*2           \n",
    "OFFSPRING_SIZE = int(N*1.5)         \n",
    "\n",
    "NUM_GENERATIONS = 1000          \n",
    "\n",
    "TOURNAMENT_SIZE = int(N/2)\n",
    "MIN_NUMBER = sys.float_info.min\n",
    "GENETIC_OPERATOR_RANDOMNESS = 0.3\n",
    "logging.getLogger().setLevel(logging.INFO)"
   ]
  },
  {
   "cell_type": "code",
   "execution_count": 83,
   "metadata": {},
   "outputs": [],
   "source": [
    "def problem(N, seed=42):\n",
    "    random.seed(seed)\n",
    "    return [\n",
    "        list(set(random.randint(0, N - 1) for n in range(random.randint(N // 5, N // 2))))\n",
    "        for n in range(random.randint(N, N * 5))\n",
    "    ]"
   ]
  },
  {
   "cell_type": "code",
   "execution_count": 84,
   "metadata": {},
   "outputs": [],
   "source": [
    "GOAL={i for i in range(N)}\n",
    "list_of_lists = problem(N)\n",
    "tmp =  {tuple(x) for x in list_of_lists}    \n",
    "list_of_lists = list(tmp)                   \n",
    "PROBLEM_SIZE = len(list_of_lists)           "
   ]
  },
  {
   "cell_type": "code",
   "execution_count": 85,
   "metadata": {},
   "outputs": [],
   "source": [
    "Individual = namedtuple(\"Individual\", [\"genome\", \"fitness\"])\n",
    "\n",
    "def gen2List(genome):\n",
    "    list = []\n",
    "    for i, g in enumerate(genome):\n",
    "        if g:\n",
    "            list += list_of_lists[i]\n",
    "    return list\n",
    "\n",
    "def tournament(population, tournament_size=TOURNAMENT_SIZE):          \n",
    "    return max(random.choices(population, k=tournament_size), key=lambda i: i.fitness) \n",
    "\n",
    "def uniform_cross_over(g1, g2):\n",
    "    new_genoma = []\n",
    "    for i in range(PROBLEM_SIZE):\n",
    "        if i%2:\n",
    "            new_genoma.append(g1[i])\n",
    "        else:\n",
    "            new_genoma.append(g2[i])\n",
    "    return tuple(new_genoma)\n",
    "\n",
    "def mutation(g):                                \n",
    "    point = random.randint(0, PROBLEM_SIZE - 1)      \n",
    "    return g[:point] + (1 - g[point],) + g[point + 1 :] \n",
    "\n",
    "def print_population(population):\n",
    "    for j, ind in enumerate(population):\n",
    "        list = []\n",
    "        s_temp = set()\n",
    "        for i, g in enumerate(ind[0]):\n",
    "            if g:\n",
    "                list.append(list_of_lists[i])\n",
    "                for x in list_of_lists[i]:\n",
    "                    s_temp.add(x)\n",
    "        print(f\"{j+1} : {list} -> {s_temp} - {ind[1]}\")\n",
    "\n",
    "\n",
    "def compute_fitness(genome):                               \n",
    "    list = gen2List(genome)\n",
    "    return (N - len(GOAL - set(list))) - numpy.sqrt(len(list))  \n",
    "    \n",
    "def check_goal(genoma):\n",
    "    if set(gen2List(genoma)) == GOAL:\n",
    "        return True\n",
    "    else:\n",
    "        return False\n",
    "\n",
    "def compute_w(genome):\n",
    "    list = []\n",
    "    for i, g in enumerate(genome):\n",
    "        if g:\n",
    "            list += list_of_lists[i]\n",
    "    return len(list)\n",
    "    "
   ]
  },
  {
   "cell_type": "code",
   "execution_count": 86,
   "metadata": {},
   "outputs": [
    {
     "name": "stderr",
     "output_type": "stream",
     "text": [
      "INFO:root:init: pop_size=200; max=35.51925930159214\n"
     ]
    }
   ],
   "source": [
    "population = list()\n",
    "\n",
    "    \n",
    "for genome in [tuple(0 for _ in range(PROBLEM_SIZE)) for _ in range(POPULATION_SIZE)]:\n",
    "    genome = mutation(genome)  # this function is called here because it is used exactly to generate a list of zeros with only one element placed at 1               \n",
    "    population.append(Individual(genome, compute_fitness(genome))) \n",
    "\n",
    "logging.info(f\"init: pop_size={len(population)}; max={max(population, key=lambda i: i.fitness)[1]}\")"
   ]
  },
  {
   "cell_type": "code",
   "execution_count": 87,
   "metadata": {},
   "outputs": [],
   "source": [
    "fitness_log = [(0, i.fitness) for i in population]  \n",
    "\n",
    "best_fit = 0\n",
    "for g in range(NUM_GENERATIONS):\n",
    "    offspring = list()\n",
    "    for i in range(OFFSPRING_SIZE):\n",
    "        if random.random() < GENETIC_OPERATOR_RANDOMNESS:                         \n",
    "            p = tournament(population)                  \n",
    "            o = mutation(p.genome)                    \n",
    "        else:                                          \n",
    "            p1 = tournament(population)                 \n",
    "            p2 = tournament(population)\n",
    "            o = uniform_cross_over(p1.genome, p2.genome)            \n",
    "        f = compute_fitness(o)                                      \n",
    "        fitness_log.append((g + 1, f))                     \n",
    "        offspring.append(Individual(o, f))                 \n",
    "    population += offspring      \n",
    "    population = sorted(population, key=lambda i: i[1], reverse=True)[:POPULATION_SIZE]\n",
    "    \n",
    "    if best_fit < population[0][1] and check_goal(population[0][0]):\n",
    "        best_fit = population[0][1]\n",
    "        w = len(gen2List(population[0][0]))\n",
    "        gen = g"
   ]
  },
  {
   "cell_type": "code",
   "execution_count": 88,
   "metadata": {},
   "outputs": [
    {
     "name": "stdout",
     "output_type": "stream",
     "text": [
      "conv_fit 86.0 found at 16 with w : 196\n"
     ]
    }
   ],
   "source": [
    "print(f\"conv_fit {best_fit} found at {gen} with w : {w}\")"
   ]
  }
 ],
 "metadata": {
  "kernelspec": {
   "display_name": "Python 3.10.6 64-bit",
   "language": "python",
   "name": "python3"
  },
  "language_info": {
   "codemirror_mode": {
    "name": "ipython",
    "version": 3
   },
   "file_extension": ".py",
   "mimetype": "text/x-python",
   "name": "python",
   "nbconvert_exporter": "python",
   "pygments_lexer": "ipython3",
   "version": "3.10.6"
  },
  "orig_nbformat": 4,
  "vscode": {
   "interpreter": {
    "hash": "f6ffd896555f36165b5062162bf4b32a800e0b4d189bc7405364ec0a2d412e5c"
   }
  }
 },
 "nbformat": 4,
 "nbformat_minor": 2
}
