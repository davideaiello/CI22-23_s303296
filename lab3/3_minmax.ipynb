{
 "cells": [
  {
   "cell_type": "markdown",
   "metadata": {},
   "source": [
    "# Libraries & Constants"
   ]
  },
  {
   "cell_type": "code",
   "execution_count": 1,
   "metadata": {},
   "outputs": [],
   "source": [
    "__author__ = \"Aiello Davide\"\n",
    "import logging\n",
    "from collections import namedtuple\n",
    "import random\n",
    "from typing import Callable\n",
    "from copy import deepcopy\n",
    "from itertools import accumulate\n",
    "from operator import xor         "
   ]
  },
  {
   "cell_type": "markdown",
   "metadata": {},
   "source": [
    "# Nim Class"
   ]
  },
  {
   "cell_type": "code",
   "execution_count": 2,
   "metadata": {},
   "outputs": [],
   "source": [
    "Nimply = namedtuple(\"Nimply\", \"row, num_objects\")"
   ]
  },
  {
   "cell_type": "code",
   "execution_count": 3,
   "metadata": {},
   "outputs": [],
   "source": [
    "class Nim:\n",
    "    def __init__(self, num_rows: int, k: int = None) -> None:\n",
    "        self._rows = [i * 2 + 1 for i in range(num_rows)]\n",
    "        self._k = k\n",
    "\n",
    "    def __bool__(self):\n",
    "        return sum(self._rows) > 0\n",
    "\n",
    "    def __str__(self):\n",
    "        return \"<\" + \" \".join(str(_) for _ in self._rows) + \">\"\n",
    "\n",
    "    @property\n",
    "    def rows(self) -> tuple:\n",
    "        return tuple(self._rows)\n",
    "\n",
    "    @property\n",
    "    def k(self) -> int:\n",
    "        return self._k\n",
    "\n",
    "    def nimming(self, ply: Nimply) -> None:\n",
    "        row, num_objects = ply\n",
    "        assert self._rows[row] >= num_objects\n",
    "        assert self._k is None or num_objects <= self._k\n",
    "        self._rows[row] -= num_objects"
   ]
  },
  {
   "cell_type": "markdown",
   "metadata": {},
   "source": [
    "# Nim-sum"
   ]
  },
  {
   "cell_type": "code",
   "execution_count": 4,
   "metadata": {},
   "outputs": [],
   "source": [
    "# algorithm taken from professor's code\n",
    "def nim_sum(state: Nim) -> int:\n",
    "    *_, result = accumulate(state.rows, xor)\n",
    "    return result\n",
    "\n",
    "\n",
    "def cook_status(state: Nim) -> dict:\n",
    "    cooked = dict()\n",
    "    cooked[\"possible_moves\"] = [\n",
    "        (r, o) for r, c in enumerate(state.rows) for o in range(1, c + 1) if state.k is None or o <= state.k\n",
    "    ]\n",
    "    cooked[\"active_rows_number\"] = sum(o > 0 for o in state.rows)       # numero di righe maggiori di zero     \n",
    "    cooked[\"shortest_row\"] = min((x for x in enumerate(state.rows) if x[1] > 0), key=lambda y: y[1])[0]\n",
    "    cooked[\"longest_row\"] = max((x for x in enumerate(state.rows)), key=lambda y: y[1])[0]\n",
    "    cooked[\"nim_sum\"] = nim_sum(state)\n",
    "\n",
    "    brute_force = list()\n",
    "    for m in cooked[\"possible_moves\"]:\n",
    "        tmp = deepcopy(state)\n",
    "        tmp.nimming(m)\n",
    "        brute_force.append((m, nim_sum(tmp)))\n",
    "    cooked[\"brute_force\"] = brute_force\n",
    "\n",
    "    return cooked\n",
    "\n",
    "def optimal_strategy(state: Nim) -> Nimply:\n",
    "    data = cook_status(state)\n",
    "    return next((bf for bf in data[\"brute_force\"] if bf[1] == 0), random.choice(data[\"brute_force\"]))[0]"
   ]
  },
  {
   "cell_type": "markdown",
   "metadata": {},
   "source": [
    "# Task 3.3: minmax"
   ]
  },
  {
   "cell_type": "code",
   "execution_count": 5,
   "metadata": {},
   "outputs": [],
   "source": [
    "def minmax(state: Nim, depth: int, max_turn: bool):\n",
    "    if sum(o > 0 for o in state.rows) == 0:     \n",
    "        return -1 if max_turn else 1 \n",
    " \n",
    "    if depth == 0:\n",
    "        return 0\n",
    "    possible_moves = [(r, o) for r, c in enumerate(state.rows) for o in range(1, c + 1) if state.k is None or o <= state.k]\n",
    "        \n",
    "    if max_turn:\n",
    "        scores = []\n",
    "        for ply in possible_moves:\n",
    "            tmp = deepcopy(state)\n",
    "            tmp.nimming(ply)\n",
    "            scores.append(minmax(tmp, depth - 1, max_turn=False))\n",
    "        return max(scores)\n",
    "    else:\n",
    "        scores = []\n",
    "        for ply in possible_moves:\n",
    "            tmp = deepcopy(state)\n",
    "            tmp.nimming(ply)\n",
    "            scores.append(minmax(tmp, depth - 1, max_turn=True))\n",
    "        return min(scores)"
   ]
  },
  {
   "cell_type": "markdown",
   "metadata": {},
   "source": [
    "# Main"
   ]
  },
  {
   "cell_type": "code",
   "execution_count": 6,
   "metadata": {},
   "outputs": [
    {
     "name": "stderr",
     "output_type": "stream",
     "text": [
      "INFO:root:NUM_MATCHES : 10 - ratio as player1: 100.0, ratio as player2: 0.0\n",
      "INFO:root:NUM_MATCHES : 50 - ratio as player1: 100.0, ratio as player2: 0.0\n",
      "INFO:root:NUM_MATCHES : 100 - ratio as player1: 100.0, ratio as player2: 0.0\n"
     ]
    }
   ],
   "source": [
    "k = 100\n",
    "NIM_SIZE = 3\n",
    "\n",
    "logging.getLogger().setLevel(logging.DEBUG)\n",
    "\n",
    "def pure_random(state: Nim) -> Nimply: \n",
    "    row = random.choice([r for r, c in enumerate(state.rows) if c > 0])\n",
    "    if(state.rows[row] > state.k):\n",
    "        num_objects = random.randint(1, state.k)\n",
    "    else:\n",
    "        num_objects = random.randint(1, state.rows[row])\n",
    "    return Nimply(row, num_objects)\n",
    "\n",
    "def minmax_strategy(state, depth=20, max_turn=False):\n",
    "    possible_moves = [(r, o) for r, c in enumerate(state.rows) for o in range(1, c + 1) if state.k is None or o <= state.k]\n",
    "    scores = []\n",
    "    for ply in possible_moves:\n",
    "        tmp = deepcopy(state)\n",
    "        tmp.nimming(ply)\n",
    "        scores.append(minmax(tmp, depth, max_turn=max_turn))\n",
    "        if scores[-1] > 0:\n",
    "            return ply\n",
    "    else:                                 \n",
    "        return pure_random(state)\n",
    "              \n",
    "def shortest_row(state: Nim) -> Nimply: # take the shortest row and select random elements if the matches > k otherwise close the row\n",
    "    row = min((x for x in enumerate(state.rows) if x[1] > 0), key=lambda y: y[1])[0]\n",
    "    if(state.rows[row] > state.k):\n",
    "       num_objects = random.randint(1, state.k)\n",
    "    else:\n",
    "       num_objects = state.rows[row]\n",
    "    return Nimply(row, num_objects)\n",
    "\n",
    "\n",
    "def evaluate(pure_random: Callable, my_strategy: Callable, NUM_MATCHES : int) -> list:\n",
    "    w = [0, 0]\n",
    "    turn = [0, 1]\n",
    "    for t in turn:\n",
    "        if t == 0:\n",
    "            opponent = (my_strategy, optimal_strategy)\n",
    "        else:\n",
    "            opponent = (optimal_strategy, my_strategy)\n",
    "        for m in range(NUM_MATCHES):\n",
    "            nim = Nim(NIM_SIZE, k)\n",
    "            player = 0\n",
    "            while nim:\n",
    "                ply = opponent[player](nim)\n",
    "                nim.nimming(ply)\n",
    "                player = 1 - player\n",
    "            winner = 1 - player\n",
    "            if winner == t:\n",
    "                w[t] += 1\n",
    "    w[0] = w[0] / NUM_MATCHES\n",
    "    w[1] = w[1] / NUM_MATCHES\n",
    "    return w\n",
    "\n",
    "for n_m in [10, 50, 100]:\n",
    "    w = evaluate(optimal_strategy, minmax_strategy, n_m)\n",
    "    logging.info(f\"NUM_MATCHES : {n_m} - ratio as player1: {w[0]*100}, ratio as player2: {w[1]*100}\")\n"
   ]
  }
 ],
 "metadata": {
  "kernelspec": {
   "display_name": "Python 3.10.6 64-bit",
   "language": "python",
   "name": "python3"
  },
  "language_info": {
   "codemirror_mode": {
    "name": "ipython",
    "version": 3
   },
   "file_extension": ".py",
   "mimetype": "text/x-python",
   "name": "python",
   "nbconvert_exporter": "python",
   "pygments_lexer": "ipython3",
   "version": "3.10.6"
  },
  "orig_nbformat": 4,
  "vscode": {
   "interpreter": {
    "hash": "f6ffd896555f36165b5062162bf4b32a800e0b4d189bc7405364ec0a2d412e5c"
   }
  }
 },
 "nbformat": 4,
 "nbformat_minor": 2
}
