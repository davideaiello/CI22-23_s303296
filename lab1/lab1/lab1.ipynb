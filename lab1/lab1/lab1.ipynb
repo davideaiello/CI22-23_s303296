{
 "cells": [
  {
   "cell_type": "code",
   "execution_count": 1,
   "metadata": {},
   "outputs": [],
   "source": [
    "import random\n",
    "import logging\n",
    "import sys\n",
    "import numpy as np\n",
    "from typing import Callable\n",
    "import heapq\n",
    "from collections import Counter\n",
    "logging.basicConfig(format=\"%(message)s\", level=logging.INFO)"
   ]
  },
  {
   "cell_type": "code",
   "execution_count": 2,
   "metadata": {},
   "outputs": [],
   "source": [
    "N=5\n",
    "MIN_NUMBER = sys.float_info.min"
   ]
  },
  {
   "cell_type": "code",
   "execution_count": 3,
   "metadata": {},
   "outputs": [],
   "source": [
    "# Copyright © 2022 Giovanni Squillero <squillero@polito.it>\n",
    "# https://github.com/squillero/computational-intelligence\n",
    "# Free for personal or classroom use; see 'LICENSE.md' for details.\n",
    "\n",
    "\n",
    "class PriorityQueue:\n",
    "    \"\"\"A basic Priority Queue with simple performance optimizations\"\"\"\n",
    "\n",
    "    def __init__(self):\n",
    "        self._data_heap = list()\n",
    "        self._data_set = set()\n",
    "\n",
    "    def __bool__(self):\n",
    "        return bool(self._data_set)\n",
    "\n",
    "    def __contains__(self, item):\n",
    "        return item in self._data_set\n",
    "\n",
    "    def push(self, item, p=None):\n",
    "        assert item not in self, f\"Duplicated element\"\n",
    "        if p is None:\n",
    "            p = len(self._data_set)\n",
    "        self._data_set.add(item)\n",
    "        heapq.heappush(self._data_heap, (p, item))\n",
    "\n",
    "    def pop(self):\n",
    "        p, item = heapq.heappop(self._data_heap)\n",
    "        self._data_set.remove(item)\n",
    "        return item"
   ]
  },
  {
   "cell_type": "code",
   "execution_count": 4,
   "metadata": {},
   "outputs": [],
   "source": [
    "def problem(N, seed=42):\n",
    "    random.seed(seed)\n",
    "    return [\n",
    "        list(set(random.randint(0, N - 1) for n in range(random.randint(N // 5, N // 2))))\n",
    "        for n in range(random.randint(N, N * 5))\n",
    "    ]"
   ]
  },
  {
   "cell_type": "code",
   "execution_count": 5,
   "metadata": {},
   "outputs": [
    {
     "name": "stdout",
     "output_type": "stream",
     "text": [
      "{0, 1, 2, 3, 4}\n",
      "[[0], [1], [0], [4], [0], [1], [4], [4], [4], [1, 3], [0, 1], [2], [1], [0], [0, 2], [2, 4], [3], [3], [4], [2, 4], [0], [1], [0, 1], [3], [2, 3]]\n",
      "25\n"
     ]
    }
   ],
   "source": [
    "GOAL={i for i in range(N)}\n",
    "print(GOAL)\n",
    "list_of_lists=problem(N)\n",
    "print(list_of_lists)\n",
    "N_of_lists=len(list_of_lists)\n",
    "print(len(list_of_lists))"
   ]
  },
  {
   "cell_type": "code",
   "execution_count": 6,
   "metadata": {},
   "outputs": [],
   "source": [
    "def concat_list_of_lists(state):\n",
    "    c_list = []\n",
    "    for n in state:\n",
    "        c_list += list_of_lists[n]\n",
    "    return c_list\n",
    "\n",
    "def print_lists(state):\n",
    "    for n in state:\n",
    "        print(\"List number: \",n, \" with elements \", list_of_lists[n])"
   ]
  },
  {
   "cell_type": "code",
   "execution_count": 7,
   "metadata": {},
   "outputs": [],
   "source": [
    "def goal_test(state):\n",
    "    if set(concat_list_of_lists(state)) == GOAL:\n",
    "        return True\n",
    "    return False"
   ]
  },
  {
   "cell_type": "code",
   "execution_count": 8,
   "metadata": {},
   "outputs": [],
   "source": [
    "def result(state):\n",
    "    new_states=[]\n",
    "    for n in range(state[len(state)-1]+1, len(list_of_lists)):\n",
    "        N=(n,)\n",
    "        new_state=state+N\n",
    "        new_states.append(new_state)\n",
    "    return new_states"
   ]
  },
  {
   "cell_type": "code",
   "execution_count": 9,
   "metadata": {},
   "outputs": [],
   "source": [
    "def calculate_cost(state):\n",
    "    c_list=concat_list_of_lists(state)\n",
    "    repetitions=len(c_list)-len(set(c_list))\n",
    "    if repetitions==0:\n",
    "        repetitions=MIN_NUMBER\n",
    "    normalized_cost=repetitions/len(c_list)\n",
    "    return normalized_cost"
   ]
  },
  {
   "cell_type": "code",
   "execution_count": 10,
   "metadata": {},
   "outputs": [],
   "source": [
    "def search(\n",
    "    goal_test: Callable,\n",
    "    state_cost: dict,\n",
    "    priority_function: Callable,\n",
    "    calculate_cost: Callable,\n",
    "):  \n",
    "    #initialize collections\n",
    "    frontier = PriorityQueue()\n",
    "    state_cost.clear()\n",
    "    #keeping track of the iterations/nodes\n",
    "    n=1\n",
    "    N_nodes=len(list_of_lists)\n",
    "    #INITIAL_STATE\n",
    "    for s in range(0,len(list_of_lists)):\n",
    "        S=(s,)\n",
    "        state_cost[hash(S)] = calculate_cost(S)\n",
    "        #print(S)\n",
    "        #print(state_cost[hash(S)])\n",
    "        frontier.push(S,p=priority_function(S))\n",
    "    state=frontier.pop()\n",
    "    #print(state)\n",
    "    #print(state_cost[hash(state)])\n",
    "        \n",
    "    #BEGIN OF THE LOOP\n",
    "    while state is not None and not goal_test(state):\n",
    "        n+=1\n",
    "        new_states = result(state)\n",
    "        for new_state in new_states:\n",
    "            if hash(new_state) not in state_cost and new_state not in frontier:\n",
    "                state_cost[hash(new_state)] = calculate_cost(new_state) \n",
    "                frontier.push(new_state, p=priority_function(new_state))\n",
    "                N_nodes+=1\n",
    "                #logging.debug(f\"Added new node to frontier (cost={state_cost[hash(new_state)]})\")\n",
    "        if frontier:\n",
    "            state = frontier.pop()\n",
    "        else:\n",
    "            state = None\n",
    "    \n",
    "    #OUTPUT       \n",
    "    if state is not None:\n",
    "        c_list=concat_list_of_lists(state)\n",
    "        repetitions=len(c_list)-len(set(c_list))\n",
    "        logging.info(f\"Found a solution for N={N:,} with {n:,} processed states, with {N_nodes:,} nodes added in the frontier and with {repetitions:,} repetitions.\")\n",
    "        print(\"The lists are:\")\n",
    "        print_lists(state)\n",
    "    else:\n",
    "        logging.info(f\"No solution found\")"
   ]
  },
  {
   "cell_type": "code",
   "execution_count": 11,
   "metadata": {},
   "outputs": [
    {
     "name": "stderr",
     "output_type": "stream",
     "text": [
      "Found a solution for N=5 with 3 processed states, with 50 nodes added in the frontier and with 0 repetitions.\n"
     ]
    },
    {
     "name": "stdout",
     "output_type": "stream",
     "text": [
      "The lists are:\n",
      "List number:  9  with elements  [1, 3]\n",
      "List number:  14  with elements  [0, 2]\n",
      "List number:  18  with elements  [4]\n"
     ]
    }
   ],
   "source": [
    "state_cost = dict()\n",
    "\n",
    "search(\n",
    "    goal_test=goal_test,\n",
    "    state_cost=state_cost,\n",
    "    priority_function=lambda s: state_cost[hash(s)],\n",
    "    calculate_cost=calculate_cost,\n",
    ")"
   ]
  }
 ],
 "metadata": {
  "kernelspec": {
   "display_name": "Python 3.10.6 64-bit",
   "language": "python",
   "name": "python3"
  },
  "language_info": {
   "codemirror_mode": {
    "name": "ipython",
    "version": 3
   },
   "file_extension": ".py",
   "mimetype": "text/x-python",
   "name": "python",
   "nbconvert_exporter": "python",
   "pygments_lexer": "ipython3",
   "version": "3.10.6"
  },
  "orig_nbformat": 4,
  "vscode": {
   "interpreter": {
    "hash": "f6ffd896555f36165b5062162bf4b32a800e0b4d189bc7405364ec0a2d412e5c"
   }
  }
 },
 "nbformat": 4,
 "nbformat_minor": 2
}
